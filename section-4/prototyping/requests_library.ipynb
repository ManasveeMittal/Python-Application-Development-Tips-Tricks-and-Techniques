{
 "cells": [
  {
   "cell_type": "markdown",
   "metadata": {},
   "source": [
    "# Importing"
   ]
  },
  {
   "cell_type": "markdown",
   "metadata": {},
   "source": [
    "There's just a single import for this module. Pretty easy."
   ]
  },
  {
   "cell_type": "code",
   "execution_count": 1,
   "metadata": {},
   "outputs": [],
   "source": [
    "import requests"
   ]
  },
  {
   "cell_type": "markdown",
   "metadata": {},
   "source": [
    "# Get request"
   ]
  },
  {
   "cell_type": "markdown",
   "metadata": {},
   "source": [
    "There's a method for each HTTP action. See get below."
   ]
  },
  {
   "cell_type": "code",
   "execution_count": 2,
   "metadata": {},
   "outputs": [],
   "source": [
    "r = requests.get(\"https://api.lyrics.ovh/v1/Coldplay/Adventure of a Lifetime\")"
   ]
  },
  {
   "cell_type": "markdown",
   "metadata": {},
   "source": [
    "You get back a response object"
   ]
  },
  {
   "cell_type": "code",
   "execution_count": 3,
   "metadata": {},
   "outputs": [
    {
     "data": {
      "text/plain": [
       "requests.models.Response"
      ]
     },
     "execution_count": 3,
     "metadata": {},
     "output_type": "execute_result"
    }
   ],
   "source": [
    "type(r)"
   ]
  },
  {
   "cell_type": "markdown",
   "metadata": {},
   "source": [
    "You can get the raw test response or a parsed json response directly."
   ]
  },
  {
   "cell_type": "code",
   "execution_count": 4,
   "metadata": {},
   "outputs": [
    {
     "data": {
      "text/plain": [
       "'{\"lyrics\":\"Turn your magic on, Umi she\\'d say\\\\r\\\\nEverything you want\\'s a dream away\\\\r\\\\nWe are legends, every day\\\\r\\\\n\\\\nThat\\'s what she told me\\\\r\\\\nTurn your magic on, to me she\\'d say\\\\n\\\\nEverything you want\\'s a dream away\\\\n\\\\nUnder this pressure, under this weight\\\\n\\\\nWe are diamonds \\\\n\\\\n\\\\n\\\\nI feel my heart beating\\\\n\\\\nI feel my heart underneath my skin\\\\n\\\\nI feel my heart beating\\\\n\\\\nOh, you make me feel\\\\n\\\\nLike I\\'m alive again\\\\n\\\\n\\\\n\\\\nAlive again!\\\\n\\\\n\\\\n\\\\nOh, you make me feel\\\\n\\\\nLike I\\'m alive again\\\\n\\\\n\\\\n\\\\nSaid I can\\'t go on, not in this way\\\\n\\\\nI\\'m a dream that died by light of day\\\\n\\\\nGonna hold up half the sky and say\\\\n\\\\nOnly I own me\\\\n\\\\n\\\\n\\\\nI feel my heart beating\\\\n\\\\nI feel my heart underneath my skin\\\\n\\\\nOh, I can feel my heart beating\\\\n\\\\n\\'Cause you make me feel\\\\n\\\\nLike I\\'m alive again\\\\n\\\\n\\\\n\\\\nAlive again!\\\\n\\\\n\\\\n\\\\nOh, you make me feel\\\\n\\\\nLike I\\'m alive again\\\\n\\\\n\\\\n\\\\nTurn your magic on, Umi she\\'d say\\\\n\\\\nEverything you want\\'s a dream away\\\\n\\\\nUnder this pressure, under this weight\\\\n\\\\nWe are diamonds taking shape\\\\n\\\\nWe are diamonds taking shape\\\\n\\\\n\\\\n\\\\n(Woo, woo)\\\\n\\\\n\\\\n\\\\nIf we\\'ve only got this life\\\\n\\\\nThis adventure, oh then I\\\\n\\\\nAnd if we\\'ve only got this life\\\\n\\\\nYou\\'ll get me through alive\\\\n\\\\nAnd if we\\'ve only got this life\\\\n\\\\nIn this adventure, oh then I\\\\n\\\\nWanna share it with you\\\\n\\\\nWith you, with you\\\\n\\\\nI said, oh, say oh\\\\n\\\\n\\\\n\\\\n(Woo hoo, woo hoo...)\"}'"
      ]
     },
     "execution_count": 4,
     "metadata": {},
     "output_type": "execute_result"
    }
   ],
   "source": [
    "r.text"
   ]
  },
  {
   "cell_type": "code",
   "execution_count": 5,
   "metadata": {},
   "outputs": [
    {
     "data": {
      "text/plain": [
       "{'lyrics': \"Turn your magic on, Umi she'd say\\r\\nEverything you want's a dream away\\r\\nWe are legends, every day\\r\\n\\nThat's what she told me\\r\\nTurn your magic on, to me she'd say\\n\\nEverything you want's a dream away\\n\\nUnder this pressure, under this weight\\n\\nWe are diamonds \\n\\n\\n\\nI feel my heart beating\\n\\nI feel my heart underneath my skin\\n\\nI feel my heart beating\\n\\nOh, you make me feel\\n\\nLike I'm alive again\\n\\n\\n\\nAlive again!\\n\\n\\n\\nOh, you make me feel\\n\\nLike I'm alive again\\n\\n\\n\\nSaid I can't go on, not in this way\\n\\nI'm a dream that died by light of day\\n\\nGonna hold up half the sky and say\\n\\nOnly I own me\\n\\n\\n\\nI feel my heart beating\\n\\nI feel my heart underneath my skin\\n\\nOh, I can feel my heart beating\\n\\n'Cause you make me feel\\n\\nLike I'm alive again\\n\\n\\n\\nAlive again!\\n\\n\\n\\nOh, you make me feel\\n\\nLike I'm alive again\\n\\n\\n\\nTurn your magic on, Umi she'd say\\n\\nEverything you want's a dream away\\n\\nUnder this pressure, under this weight\\n\\nWe are diamonds taking shape\\n\\nWe are diamonds taking shape\\n\\n\\n\\n(Woo, woo)\\n\\n\\n\\nIf we've only got this life\\n\\nThis adventure, oh then I\\n\\nAnd if we've only got this life\\n\\nYou'll get me through alive\\n\\nAnd if we've only got this life\\n\\nIn this adventure, oh then I\\n\\nWanna share it with you\\n\\nWith you, with you\\n\\nI said, oh, say oh\\n\\n\\n\\n(Woo hoo, woo hoo...)\"}"
      ]
     },
     "execution_count": 5,
     "metadata": {},
     "output_type": "execute_result"
    }
   ],
   "source": [
    "r.json()"
   ]
  },
  {
   "cell_type": "code",
   "execution_count": 6,
   "metadata": {},
   "outputs": [
    {
     "data": {
      "text/plain": [
       "\"Turn your magic on, Umi she'd say\\r\\nEverything you want's a dream away\\r\\nWe are legends, every day\\r\\n\\nThat's what she told me\\r\\nTurn your magic on, to me she'd say\\n\\nEverything you want's a dream away\\n\\nUnder this pressure, under this weight\\n\\nWe are diamonds \\n\\n\\n\\nI feel my heart beating\\n\\nI feel my heart underneath my skin\\n\\nI feel my heart beating\\n\\nOh, you make me feel\\n\\nLike I'm alive again\\n\\n\\n\\nAlive again!\\n\\n\\n\\nOh, you make me feel\\n\\nLike I'm alive again\\n\\n\\n\\nSaid I can't go on, not in this way\\n\\nI'm a dream that died by light of day\\n\\nGonna hold up half the sky and say\\n\\nOnly I own me\\n\\n\\n\\nI feel my heart beating\\n\\nI feel my heart underneath my skin\\n\\nOh, I can feel my heart beating\\n\\n'Cause you make me feel\\n\\nLike I'm alive again\\n\\n\\n\\nAlive again!\\n\\n\\n\\nOh, you make me feel\\n\\nLike I'm alive again\\n\\n\\n\\nTurn your magic on, Umi she'd say\\n\\nEverything you want's a dream away\\n\\nUnder this pressure, under this weight\\n\\nWe are diamonds taking shape\\n\\nWe are diamonds taking shape\\n\\n\\n\\n(Woo, woo)\\n\\n\\n\\nIf we've only got this life\\n\\nThis adventure, oh then I\\n\\nAnd if we've only got this life\\n\\nYou'll get me through alive\\n\\nAnd if we've only got this life\\n\\nIn this adventure, oh then I\\n\\nWanna share it with you\\n\\nWith you, with you\\n\\nI said, oh, say oh\\n\\n\\n\\n(Woo hoo, woo hoo...)\""
      ]
     },
     "execution_count": 6,
     "metadata": {},
     "output_type": "execute_result"
    }
   ],
   "source": [
    "r.json()['lyrics']"
   ]
  },
  {
   "cell_type": "code",
   "execution_count": null,
   "metadata": {},
   "outputs": [],
   "source": []
  }
 ],
 "metadata": {
  "kernelspec": {
   "display_name": "Python 3",
   "language": "python",
   "name": "python3"
  },
  "language_info": {
   "codemirror_mode": {
    "name": "ipython",
    "version": 3
   },
   "file_extension": ".py",
   "mimetype": "text/x-python",
   "name": "python",
   "nbconvert_exporter": "python",
   "pygments_lexer": "ipython3",
   "version": "3.6.5"
  }
 },
 "nbformat": 4,
 "nbformat_minor": 2
}
